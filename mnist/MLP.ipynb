{
  "nbformat": 4,
  "nbformat_minor": 0,
  "metadata": {
    "kernelspec": {
      "name": "python3",
      "display_name": "Python 3"
    },
    "language_info": {
      "codemirror_mode": {
        "name": "ipython",
        "version": 3
      },
      "file_extension": ".py",
      "mimetype": "text/x-python",
      "name": "python",
      "nbconvert_exporter": "python",
      "pygments_lexer": "ipython3",
      "version": "3.7.4"
    },
    "colab": {
      "name": "MLP",
      "version": "0.3.2",
      "provenance": [],
      "collapsed_sections": []
    },
    "accelerator": "GPU"
  },
  "cells": [
    {
      "cell_type": "code",
      "metadata": {
        "id": "s9lm-5s0IZEm",
        "colab_type": "code",
        "colab": {}
      },
      "source": [
        "import torch\n",
        "import torch.nn as nn\n",
        "import torchvision.datasets as dsets\n",
        "import torchvision.transforms as transforms\n",
        "from torch.autograd import Variable\n",
        "from torch.nn import functional as F\n",
        "import matplotlib.pyplot as plt\n",
        "from statistics import mean"
      ],
      "execution_count": 0,
      "outputs": []
    },
    {
      "cell_type": "code",
      "metadata": {
        "id": "0Vrin5jOIZEp",
        "colab_type": "code",
        "colab": {}
      },
      "source": [
        "# Hyper Parameters \n",
        "input_size = 784\n",
        "inter = 56\n",
        "num_classes = 10\n",
        "num_epochs = 8\n",
        "batch_size = 100\n",
        "learning_rate = 0.01\n",
        "momentum = 0.5"
      ],
      "execution_count": 0,
      "outputs": []
    },
    {
      "cell_type": "code",
      "metadata": {
        "id": "aeFohO4TIZEr",
        "colab_type": "code",
        "colab": {}
      },
      "source": [
        "# MNIST Dataset (Images and Labels)\n",
        "train_dataset = dsets.MNIST(root='./files', \n",
        "                            train=True, \n",
        "                            transform=transforms.ToTensor(),\n",
        "                            download=True)\n",
        "\n",
        "test_dataset = dsets.MNIST(root='./files', \n",
        "                           train=False, \n",
        "                           transform=transforms.ToTensor(),\n",
        "                           download=True)\n",
        "\n",
        "# Dataset Loader (Input Pipline)\n",
        "train_loader = torch.utils.data.DataLoader(dataset=train_dataset, \n",
        "                                           batch_size=batch_size, \n",
        "                                           shuffle=True)\n",
        "\n",
        "test_loader = torch.utils.data.DataLoader(dataset=test_dataset, \n",
        "                                          batch_size=batch_size, \n",
        "                                          shuffle=False)"
      ],
      "execution_count": 0,
      "outputs": []
    },
    {
      "cell_type": "code",
      "metadata": {
        "scrolled": true,
        "id": "4eMH1bgKIZEu",
        "colab_type": "code",
        "colab": {
          "base_uri": "https://localhost:8080/",
          "height": 51
        },
        "outputId": "a4d80f17-b6d8-4afa-b2a9-d3af0e1a42f2"
      },
      "source": [
        "print(len(train_dataset))\n",
        "print(len(test_dataset))"
      ],
      "execution_count": 81,
      "outputs": [
        {
          "output_type": "stream",
          "text": [
            "60000\n",
            "10000\n"
          ],
          "name": "stdout"
        }
      ]
    },
    {
      "cell_type": "code",
      "metadata": {
        "id": "4pQraNXASO5k",
        "colab_type": "code",
        "colab": {}
      },
      "source": [
        "# GPU\n",
        "device = torch.device(\"cuda:0\" if torch.cuda.is_available() else \"cpu\")"
      ],
      "execution_count": 0,
      "outputs": []
    },
    {
      "cell_type": "markdown",
      "metadata": {
        "id": "XK2Ga6EAIZEx",
        "colab_type": "text"
      },
      "source": [
        "## MODEL"
      ]
    },
    {
      "cell_type": "code",
      "metadata": {
        "id": "RT16qA75IZEy",
        "colab_type": "code",
        "colab": {}
      },
      "source": [
        "class MLP1linear(nn.Module):\n",
        "    def __init__(self, input_size, inter,num_classes):\n",
        "        super(MLP1linear, self).__init__()\n",
        "        self.fc1 = nn.Linear(input_size, inter)\n",
        "        self.fc2 = nn.Linear(inter, num_classes)\n",
        "    \n",
        "    def forward(self, x):\n",
        "        out = self.fc2(self.fc1(x))\n",
        "        return out\n",
        "      \n",
        "class MLP1relu(nn.Module):\n",
        "    def __init__(self, input_size, inter,num_classes):\n",
        "        super(MLP1relu, self).__init__()\n",
        "        self.fc1 = nn.Linear(input_size, inter)\n",
        "        self.fc2 = nn.Linear(inter, num_classes)\n",
        "    \n",
        "    def forward(self, x):\n",
        "        out = self.fc2(F.relu(self.fc1(x)))\n",
        "        return out\n",
        "\n",
        "class MLP1relu2(nn.Module):\n",
        "    def __init__(self, input_size, inter,num_classes):\n",
        "        super(MLP1relu2, self).__init__()\n",
        "        self.fc1 = nn.Linear(input_size, inter)    \n",
        "        self.dropper = nn.Dropout(p=0.2)\n",
        "        self.fc2 = nn.Linear(inter, num_classes)\n",
        "    \n",
        "    def forward(self, x):\n",
        "        out = self.fc2(self.dropper(F.relu(self.fc1(x))))\n",
        "        return out\n",
        "\n",
        "      \n",
        "class MLP1relu3(nn.Module):\n",
        "    def __init__(self, input_size, inter,num_classes):\n",
        "        super(MLP1relu3, self).__init__()\n",
        "        self.fc1 = nn.Linear(input_size, inter)    \n",
        "        self.dropper = nn.Dropout(p=0.3)\n",
        "        self.fc2 = nn.Linear(inter, num_classes)\n",
        "    \n",
        "    def forward(self, x):\n",
        "        out = self.fc2(self.dropper(F.relu(self.fc1(x))))\n",
        "        return out\n",
        "      \n",
        "\n",
        "class MLP1relu5(nn.Module):\n",
        "    def __init__(self, input_size, inter,num_classes):\n",
        "        super(MLP1relu5, self).__init__()\n",
        "        self.fc1 = nn.Linear(input_size, inter)    \n",
        "        self.dropper = nn.Dropout(p=0.5)\n",
        "        self.fc2 = nn.Linear(inter, num_classes)\n",
        "    \n",
        "    def forward(self, x):\n",
        "        out = self.fc2(self.dropper(F.relu(self.fc1(x))))\n",
        "        return out\n",
        "      \n",
        "class MLP1tanh(nn.Module):\n",
        "    def __init__(self, input_size, inter,num_classes):\n",
        "        super(MLP1tanh, self).__init__()\n",
        "        self.fc1 = nn.Linear(input_size, inter)\n",
        "        self.fc2 = nn.Linear(inter, num_classes)\n",
        "    \n",
        "    def forward(self, x):\n",
        "        out = self.fc2(F.tanh(self.fc1(x)))\n",
        "        return out\n",
        "      \n",
        "class MLP1sig(nn.Module):\n",
        "    def __init__(self, input_size, inter,num_classes):\n",
        "        super(MLP1tanh, self).__init__()\n",
        "        self.fc1 = nn.Linear(input_size, inter)\n",
        "        self.fc2 = nn.Linear(inter, num_classes)\n",
        "    \n",
        "    def forward(self, x):\n",
        "        out = self.fc2(F.sigmoid(self.fc1(x)))\n",
        "        return out\n",
        "\n",
        "      \n",
        "class MLP2linear(nn.Module):\n",
        "    def __init__(self, input_size, inter,num_classes):\n",
        "        super(MLP2linear, self).__init__()\n",
        "        self.fc1 = nn.Linear(input_size, 300)\n",
        "        self.fc2 = nn.Linear(300, inter)\n",
        "        self.fc3 = nn.Linear(inter, num_classes)\n",
        "    \n",
        "\n",
        "    def forward(self, x):\n",
        "        out = self.fc3(self.fc2(self.fc1(x)))\n",
        "        return out\n",
        "\n",
        "class MLP3linear(nn.Module):\n",
        "    def __init__(self, input_size, inter,num_classes):\n",
        "        super(MLP2linear, self).__init__()\n",
        "        self.fc1 = nn.Linear(input_size, 300)\n",
        "        self.fc2 = nn.Linear(300, inter)\n",
        "        self.fc3 = nn.Linear(inter, num_classes)\n",
        "\n",
        "    def forward(self, x):\n",
        "        out = self.fc4(self.fc3(self.fc2(self.fc1(x))))\n",
        "        return out\n"
      ],
      "execution_count": 0,
      "outputs": []
    },
    {
      "cell_type": "code",
      "metadata": {
        "id": "ofv3r483Xs2J",
        "colab_type": "code",
        "colab": {}
      },
      "source": [
        "\n",
        "def test(test_loader,device,model,criterion):\n",
        "  correct = 0\n",
        "  total = 0\n",
        "  test_loss = []\n",
        "  for images, labels in test_loader:\n",
        "      images = images.to(device)\n",
        "      labels = labels.to(device)\n",
        "      images = Variable(images.view(-1, 28*28))\n",
        "      outputs = model(images)\n",
        "      loss = criterion(outputs, labels)\n",
        "      _, predicted = torch.max(outputs.data, 1)\n",
        "      total += labels.size(0)\n",
        "      correct += (predicted == labels).sum()\n",
        "      test_loss.append(loss.item())\n",
        "  \n",
        "  return (int( (100 * correct / total))),mean(test_loss)\n",
        "      \n",
        "\n",
        "\n",
        "def runner(input_size, inter, num_classes, filename,train_loader, test_loader,learning_rate,device,num_epochs,momentum,model_class,criterion):\n",
        "  model = model_class(input_size, inter, num_classes)\n",
        "  model.to(device)\n",
        "  optimizer = torch.optim.SGD(model.parameters(), lr=learning_rate, momentum=momentum)\n",
        "  training_losses = []\n",
        "  accuracy = []\n",
        "  test_loss = []\n",
        "  accuracy_test = []\n",
        "  for epoch in range(num_epochs):\n",
        "      print(epoch,num_epochs)\n",
        "      correct = 0\n",
        "      train_loss = []\n",
        "      total = 0\n",
        "      for i, (images, labels) in enumerate(train_loader):\n",
        "          images = images.to(device)\n",
        "          labels = labels.to(device)\n",
        "          images = Variable(images.view(-1, 28*28))\n",
        "          labels = Variable(labels)\n",
        "          optimizer.zero_grad()\n",
        "          outputs = model(images)\n",
        "          loss = criterion(outputs, labels)\n",
        "          total += labels.size(0)\n",
        "          _, predicted = torch.max(outputs.data, 1)\n",
        "          correct += (predicted==labels).sum()\n",
        "          loss.backward()\n",
        "          optimizer.step()\n",
        "          train_loss.append(loss.item())\n",
        "      acc, lo = test(test_loader,device,model,criterion)\n",
        "      test_loss.append(lo)\n",
        "      training_losses.append(mean(train_loss))\n",
        "      accuracy_test.append(acc)\n",
        "      accuracy.append(int( (100 * correct / total)))\n",
        "      \n",
        "\n",
        "#   accuracy = int( (100 * correct / total))\n",
        "  fig = plt.figure()\n",
        "  plt.plot(range(len(training_losses)+1)[1:], training_losses,label='Train')\n",
        "  plt.plot(range(len(test_loss)+1)[1:], test_loss,label='Test')\n",
        "  plt.title('Loss vs Epoch - ' + str(filename))\n",
        "  plt.xlabel('Epochs')\n",
        "  plt.legend()\n",
        "  plt.ylabel('Loss')\n",
        "  plt.savefig(str(filename) + ' loss vs epoch.png')\n",
        "  plt.clf()\n",
        "  fig = plt.figure()\n",
        "  plt.plot(range(len(accuracy)+1)[1:], accuracy,label='Train')\n",
        "  plt.plot(range(len(accuracy_test)+1)[1:], accuracy_test,label='Test')\n",
        "  plt.title('Accuracy vs Epoch - ' + str(filename))\n",
        "  plt.xlabel('Epochs')\n",
        "  plt.ylabel('Accuracy')\n",
        "  plt.legend()\n",
        "  plt.savefig(str(filename) + ' accuracy vs epoch.png')\n",
        "  return [accuracy_test,test_loss]\n",
        "\n",
        "def plot_losses(losses,title,loa=1):\n",
        "  # loa == loss or accuracy\n",
        "  ylabel = 'Accuracy'\n",
        "  if loa == 2:\n",
        "    ylabel = 'Loss'\n",
        "  \n",
        "  fig = plt.figure()\n",
        "  for _loss in losses:\n",
        "    loss = _loss[loa]\n",
        "    label = _loss[0]\n",
        "    plt.plot(range(len(loss)+1)[1:], loss,label=label)\n",
        "  plt.title(title)\n",
        "  plt.xlabel('Epochs')\n",
        "  plt.ylabel(ylabel)\n",
        "  plt.legend()\n",
        "  plt.savefig(title+'.png')\n",
        "  "
      ],
      "execution_count": 0,
      "outputs": []
    },
    {
      "cell_type": "code",
      "metadata": {
        "id": "9VDbN6wtIZE0",
        "colab_type": "code",
        "outputId": "fee6187e-3698-48ba-8d5b-f2c919339b31",
        "colab": {
          "base_uri": "https://localhost:8080/",
          "height": 879
        }
      },
      "source": [
        "layers = []\n",
        "activation = []\n",
        "dropouts = []\n",
        "\n",
        "filename = 'MLP 1 Hidden Layer Relu'\n",
        "z = [filename] + runner(784,56,10,filename,train_loader,test_loader,learning_rate,device,num_epochs,momentum,MLP1relu,nn.CrossEntropyLoss())\n",
        "dropouts.append(z)\n",
        "# layers.append(z)\n",
        "\n",
        "filename = 'MLP 1 Hidden Layer Relu With 20% dropout'\n",
        "z = [filename] + runner(784,56,10,filename,train_loader,test_loader,learning_rate,device,num_epochs,momentum,MLP1relu2,nn.CrossEntropyLoss())\n",
        "dropouts.append(z)\n",
        "\n",
        "filename = 'MLP 1 Hidden Layer Relu With 30% dropout'\n",
        "z = [filename] + runner(784,56,10,filename,train_loader,test_loader,learning_rate,device,num_epochs,momentum,MLP1relu2,nn.CrossEntropyLoss())\n",
        "dropouts.append(z)\n",
        "\n",
        "filename = 'MLP 1 Hidden Layer Relu With 50% dropout'\n",
        "z = [filename] + runner(784,56,10,filename,train_loader,test_loader,learning_rate,device,num_epochs,momentum,MLP1relu5,nn.CrossEntropyLoss())\n",
        "dropouts.append(z)"
      ],
      "execution_count": 85,
      "outputs": [
        {
          "output_type": "stream",
          "text": [
            "0 8\n",
            "1 8\n",
            "2 8\n",
            "3 8\n",
            "4 8\n",
            "5 8\n",
            "6 8\n",
            "7 8\n",
            "0 8\n",
            "1 8\n",
            "2 8\n",
            "3 8\n",
            "4 8\n",
            "5 8\n",
            "6 8\n",
            "7 8\n"
          ],
          "name": "stdout"
        },
        {
          "output_type": "display_data",
          "data": {
            "text/plain": [
              "<Figure size 432x288 with 0 Axes>"
            ]
          },
          "metadata": {
            "tags": []
          }
        },
        {
          "output_type": "display_data",
          "data": {
            "image/png": "[encoded data removed]",
            "text/plain": [
              "<Figure size 432x288 with 1 Axes>"
            ]
          },
          "metadata": {
            "tags": []
          }
        },
        {
          "output_type": "display_data",
          "data": {
            "text/plain": [
              "<Figure size 432x288 with 0 Axes>"
            ]
          },
          "metadata": {
            "tags": []
          }
        },
        {
          "output_type": "display_data",
          "data": {
            "image/png": "[encoded data removed]",
            "text/plain": [
              "<Figure size 432x288 with 1 Axes>"
            ]
          },
          "metadata": {
            "tags": []
          }
        }
      ]
    },
    {
      "cell_type": "code",
      "metadata": {
        "id": "hof4NgAKoirX",
        "colab_type": "code",
        "colab": {
          "base_uri": "https://localhost:8080/",
          "height": 573
        },
        "outputId": "460f6524-24fc-4a30-fcab-bf4b9180e240"
      },
      "source": [
        "# plot_losses(activation,'Multi Layer Perceptron - Activation Functions')\n",
        "# plot_losses(layers,'Multi Layer Perceptron - Different Layers')\n",
        "# print(activation)\n",
        "plot_losses(activation,'Overfitting - Accuracy with dropout')\n",
        "plot_losses(activation,'Overfitting - Loss with dropout',loa=2)"
      ],
      "execution_count": 87,
      "outputs": [
        {
          "output_type": "display_data",
          "data": {
            "image/png": "[encoded data removed]",
            "text/plain": [
              "<Figure size 432x288 with 1 Axes>"
            ]
          },
          "metadata": {
            "tags": []
          }
        },
        {
          "output_type": "display_data",
          "data": {
            "image/png": "[encoded data removed]",
            "text/plain": [
              "<Figure size 432x288 with 1 Axes>"
            ]
          },
          "metadata": {
            "tags": []
          }
        }
      ]
    },
    {
      "cell_type": "code",
      "metadata": {
        "id": "oWzy4LO0Pwsy",
        "colab_type": "code",
        "outputId": "690b5938-4830-44ac-d4c3-62078e31efc1",
        "colab": {
          "base_uri": "https://localhost:8080/",
          "height": 221
        }
      },
      "source": [
        "try:\n",
        "  from google.colab import files\n",
        "  !zip output.zip *.png\n",
        "  while 1:\n",
        "    try:\n",
        "      files.download('output.zip')\n",
        "      break\n",
        "    except:\n",
        "      continue\n",
        "except:\n",
        "  pass"
      ],
      "execution_count": 89,
      "outputs": [
        {
          "output_type": "stream",
          "text": [
            "  adding: MLP 1 Hidden Layer Linear accuracy vs epoch.png (deflated 8%)\n",
            "  adding: MLP 1 Hidden Layer Linear loss vs epoch.png (deflated 6%)\n",
            "  adding: MLP 1 Hidden Layer Relu accuracy vs epoch.png (deflated 6%)\n",
            "  adding: MLP 1 Hidden Layer Relu loss vs epoch.png (deflated 6%)\n",
            "  adding: MLP 1 Hidden Layer Relu With 20% dropout accuracy vs epoch.png (deflated 5%)\n",
            "  adding: MLP 1 Hidden Layer Relu With 20% dropout loss vs epoch.png (deflated 6%)\n",
            "  adding: MLP 1 Hidden Layer tanH accuracy vs epoch.png (deflated 6%)\n",
            "  adding: MLP 1 Hidden Layer tanH loss vs epoch.png (deflated 5%)\n",
            "  adding: Multi Layer Perceptron - Activation Functions.png (deflated 6%)\n",
            "  adding: Multi Layer Perceptron - Different Layers.png (deflated 8%)\n",
            "  adding: Overfitting - Accuracy with dropout.png (deflated 5%)\n",
            "  adding: Overfitting - Loss with dropout.png (deflated 5%)\n"
          ],
          "name": "stdout"
        }
      ]
    },
    {
      "cell_type": "code",
      "metadata": {
        "id": "6Z7fynh3VTOn",
        "colab_type": "code",
        "colab": {
          "base_uri": "https://localhost:8080/",
          "height": 34
        },
        "outputId": "108c43f9-1de6-4be2-d38e-d9d15da6590d"
      },
      "source": [
        ""
      ],
      "execution_count": 77,
      "outputs": [
        {
          "output_type": "execute_result",
          "data": {
            "text/plain": [
              "[1, 2, 3]"
            ]
          },
          "metadata": {
            "tags": []
          },
          "execution_count": 77
        }
      ]
    }
  ]
}