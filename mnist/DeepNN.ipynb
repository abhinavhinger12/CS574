{
 "cells": [
  {
   "cell_type": "code",
   "execution_count": 2,
   "metadata": {},
   "outputs": [],
   "source": [
    "# Report link\n",
    "# https://docs.google.com/document/d/1rElNDpHfDFQjACL_KcCWW5UUFW2EArOx8pxwyxsec7c/edit?usp=sharing\n",
    "\n",
    "import torch\n",
    "import torchvision\n",
    "import matplotlib.pyplot as plt\n",
    "from torch.autograd import Variable\n",
    "import torchvision.datasets as dsets\n",
    "import torch\n",
    "import torch.nn as nn\n",
    "import torchvision.datasets as dsets\n",
    "import torchvision.transforms as transforms\n",
    "from torch.autograd import Variable\n",
    "from torch.nn import functional as F\n",
    "\n",
    "import torch.nn as nn\n",
    "import torch.nn.functional as F\n",
    "import torch.optim as optim"
   ]
  },
  {
   "cell_type": "code",
   "execution_count": 3,
   "metadata": {},
   "outputs": [
    {
     "data": {
      "text/plain": [
       "<torch._C.Generator at 0x7f8787674d90>"
      ]
     },
     "execution_count": 3,
     "metadata": {},
     "output_type": "execute_result"
    }
   ],
   "source": [
    "n_epochs = 1\n",
    "batch_size_train = 64\n",
    "batch_size_test = 1000\n",
    "learning_rate = 0.01\n",
    "momentum = 0.5\n",
    "log_interval = 10\n",
    "\n",
    "random_seed = 1\n",
    "torch.backends.cudnn.enabled = False\n",
    "torch.manual_seed(random_seed)"
   ]
  },
  {
   "cell_type": "code",
   "execution_count": 4,
   "metadata": {},
   "outputs": [],
   "source": [
    "# Hyper Parameters \n",
    "input_size = 784\n",
    "num_classes = 10\n",
    "num_epochs = 5\n",
    "batch_size = 100\n",
    "learning_rate = 0.01"
   ]
  },
  {
   "cell_type": "code",
   "execution_count": 5,
   "metadata": {},
   "outputs": [],
   "source": [
    "# MNIST Dataset (Images and Labels)\n",
    "train_dataset = dsets.MNIST(root='files', \n",
    "                            train=True, \n",
    "                            transform=transforms.ToTensor(),\n",
    "                            download=False)\n",
    "\n",
    "test_dataset = dsets.MNIST(root='files', \n",
    "                           train=False, \n",
    "                           transform=transforms.ToTensor(),\n",
    "                           download=False)\n",
    "\n",
    "# Dataset Loader (Input Pipline)\n",
    "train_loader = torch.utils.data.DataLoader(dataset=train_dataset, \n",
    "                                           batch_size=batch_size, \n",
    "                                           shuffle=True)\n",
    "\n",
    "test_loader = torch.utils.data.DataLoader(dataset=test_dataset, \n",
    "                                          batch_size=batch_size, \n",
    "                                          shuffle=False)"
   ]
  },
  {
   "cell_type": "code",
   "execution_count": 59,
   "metadata": {},
   "outputs": [],
   "source": [
    "examples = enumerate(test_loader)\n",
    "batch_idx, (example_data, example_targets) = next(examples)"
   ]
  },
  {
   "cell_type": "code",
   "execution_count": 60,
   "metadata": {},
   "outputs": [
    {
     "data": {
      "text/plain": [
       "torch.Size([100, 1, 28, 28])"
      ]
     },
     "execution_count": 60,
     "metadata": {},
     "output_type": "execute_result"
    }
   ],
   "source": [
    "example_data.shape"
   ]
  },
  {
   "cell_type": "code",
   "execution_count": 208,
   "metadata": {},
   "outputs": [],
   "source": [
    "class Net(nn.Module):\n",
    "\n",
    "    def __init__(self, input_size, hidden_size, out_size):\n",
    "        super(Net, self).__init__()\n",
    "        self.fc1 = nn.Linear(28*28, 512)\n",
    "        self.fc2 = nn.Linear(512, 256)\n",
    "        self.fc3 = nn.Linear(256, 128)\n",
    "        self.fc4 = nn.Linear(128, 64)\n",
    "        self.fc5 = nn.Linear(64, 10)\n",
    "        \n",
    "        # Dropout module with 0.2 probbability\n",
    "        self.dropout = nn.Dropout(p=0.2)\n",
    "        # Add softmax on output layer\n",
    "        self.log_softmax = F.log_softmax\n",
    "\n",
    "    def forward(self, x):\n",
    "        x = self.dropout(F.relu(self.fc1(x)))\n",
    "        x = self.dropout(F.relu(self.fc2(x)))\n",
    "        x = self.dropout(F.relu(self.fc3(x)))\n",
    "        x = self.dropout(F.relu(self.fc4(x)))\n",
    "        \n",
    "        x = self.log_softmax(self.fc5(x), dim=1)\n",
    "        \n",
    "        return x"
   ]
  },
  {
   "cell_type": "code",
   "execution_count": 227,
   "metadata": {},
   "outputs": [],
   "source": [
    "input_size = 784\n",
    "hidden_size = 500\n",
    "output_size = 10\n",
    "num_epochs = 25\n",
    "\n",
    "learning_rate = 0.01\n",
    "\n",
    "network = Net(input_size,hidden_size, output_size)\n",
    "\n",
    "criterion = nn.NLLLoss()  \n",
    "\n",
    "#Optimizer: Stochastic Gradient Descent\n",
    "optimizer = torch.optim.SGD(network.parameters(), lr=learning_rate)  "
   ]
  },
  {
   "cell_type": "code",
   "execution_count": 228,
   "metadata": {},
   "outputs": [],
   "source": [
    "#Plotting loss \n",
    "train_losses = []\n",
    "train_counter = []\n",
    "test_losses = []\n",
    "test_counter = [i*len(train_loader.dataset) for i in range(n_epochs + 1)]"
   ]
  },
  {
   "cell_type": "code",
   "execution_count": 229,
   "metadata": {},
   "outputs": [
    {
     "name": "stdout",
     "output_type": "stream",
     "text": [
      "Epoch: [1/25], Step: [100/600], Loss: 2.3141\n",
      "Epoch: [1/25], Step: [200/600], Loss: 2.3177\n",
      "Epoch: [1/25], Step: [300/600], Loss: 2.2972\n",
      "Epoch: [1/25], Step: [400/600], Loss: 2.3009\n",
      "Epoch: [1/25], Step: [500/600], Loss: 2.3061\n",
      "Epoch: [1/25], Step: [600/600], Loss: 2.2958\n",
      "Epoch: [2/25], Step: [100/600], Loss: 2.2953\n",
      "Epoch: [2/25], Step: [200/600], Loss: 2.2909\n",
      "Epoch: [2/25], Step: [300/600], Loss: 2.2827\n",
      "Epoch: [2/25], Step: [400/600], Loss: 2.2828\n",
      "Epoch: [2/25], Step: [500/600], Loss: 2.2761\n",
      "Epoch: [2/25], Step: [600/600], Loss: 2.2544\n",
      "Epoch: [3/25], Step: [100/600], Loss: 2.2483\n",
      "Epoch: [3/25], Step: [200/600], Loss: 2.2390\n",
      "Epoch: [3/25], Step: [300/600], Loss: 2.2227\n",
      "Epoch: [3/25], Step: [400/600], Loss: 2.1707\n",
      "Epoch: [3/25], Step: [500/600], Loss: 2.0646\n",
      "Epoch: [3/25], Step: [600/600], Loss: 1.9879\n",
      "Epoch: [4/25], Step: [100/600], Loss: 1.7877\n",
      "Epoch: [4/25], Step: [200/600], Loss: 1.7258\n",
      "Epoch: [4/25], Step: [300/600], Loss: 1.4808\n",
      "Epoch: [4/25], Step: [400/600], Loss: 1.4838\n",
      "Epoch: [4/25], Step: [500/600], Loss: 1.2501\n",
      "Epoch: [4/25], Step: [600/600], Loss: 1.2492\n",
      "Epoch: [5/25], Step: [100/600], Loss: 1.1563\n",
      "Epoch: [5/25], Step: [200/600], Loss: 0.9682\n",
      "Epoch: [5/25], Step: [300/600], Loss: 1.1765\n",
      "Epoch: [5/25], Step: [400/600], Loss: 0.9888\n",
      "Epoch: [5/25], Step: [500/600], Loss: 0.8876\n",
      "Epoch: [5/25], Step: [600/600], Loss: 0.7841\n",
      "Epoch: [6/25], Step: [100/600], Loss: 1.0155\n",
      "Epoch: [6/25], Step: [200/600], Loss: 0.9184\n",
      "Epoch: [6/25], Step: [300/600], Loss: 0.8721\n",
      "Epoch: [6/25], Step: [400/600], Loss: 0.7013\n",
      "Epoch: [6/25], Step: [500/600], Loss: 0.6425\n",
      "Epoch: [6/25], Step: [600/600], Loss: 0.6269\n",
      "Epoch: [7/25], Step: [100/600], Loss: 0.6553\n",
      "Epoch: [7/25], Step: [200/600], Loss: 0.6940\n",
      "Epoch: [7/25], Step: [300/600], Loss: 0.8548\n",
      "Epoch: [7/25], Step: [400/600], Loss: 0.7820\n",
      "Epoch: [7/25], Step: [500/600], Loss: 0.4860\n",
      "Epoch: [7/25], Step: [600/600], Loss: 0.7082\n",
      "Epoch: [8/25], Step: [100/600], Loss: 0.5068\n",
      "Epoch: [8/25], Step: [200/600], Loss: 0.6517\n",
      "Epoch: [8/25], Step: [300/600], Loss: 0.5577\n",
      "Epoch: [8/25], Step: [400/600], Loss: 0.5943\n",
      "Epoch: [8/25], Step: [500/600], Loss: 0.3972\n",
      "Epoch: [8/25], Step: [600/600], Loss: 0.5928\n",
      "Epoch: [9/25], Step: [100/600], Loss: 0.3897\n",
      "Epoch: [9/25], Step: [200/600], Loss: 0.4960\n",
      "Epoch: [9/25], Step: [300/600], Loss: 0.4633\n",
      "Epoch: [9/25], Step: [400/600], Loss: 0.3138\n",
      "Epoch: [9/25], Step: [500/600], Loss: 0.3698\n",
      "Epoch: [9/25], Step: [600/600], Loss: 0.3797\n",
      "Epoch: [10/25], Step: [100/600], Loss: 0.4883\n",
      "Epoch: [10/25], Step: [200/600], Loss: 0.3263\n",
      "Epoch: [10/25], Step: [300/600], Loss: 0.5321\n",
      "Epoch: [10/25], Step: [400/600], Loss: 0.4046\n",
      "Epoch: [10/25], Step: [500/600], Loss: 0.3430\n",
      "Epoch: [10/25], Step: [600/600], Loss: 0.3032\n",
      "Epoch: [11/25], Step: [100/600], Loss: 0.3642\n",
      "Epoch: [11/25], Step: [200/600], Loss: 0.3863\n",
      "Epoch: [11/25], Step: [300/600], Loss: 0.4759\n",
      "Epoch: [11/25], Step: [400/600], Loss: 0.2968\n",
      "Epoch: [11/25], Step: [500/600], Loss: 0.3181\n",
      "Epoch: [11/25], Step: [600/600], Loss: 0.1850\n",
      "Epoch: [12/25], Step: [100/600], Loss: 0.2661\n",
      "Epoch: [12/25], Step: [200/600], Loss: 0.2956\n",
      "Epoch: [12/25], Step: [300/600], Loss: 0.3809\n",
      "Epoch: [12/25], Step: [400/600], Loss: 0.2279\n",
      "Epoch: [12/25], Step: [500/600], Loss: 0.1948\n",
      "Epoch: [12/25], Step: [600/600], Loss: 0.3027\n",
      "Epoch: [13/25], Step: [100/600], Loss: 0.2170\n",
      "Epoch: [13/25], Step: [200/600], Loss: 0.3247\n",
      "Epoch: [13/25], Step: [300/600], Loss: 0.3038\n",
      "Epoch: [13/25], Step: [400/600], Loss: 0.2902\n",
      "Epoch: [13/25], Step: [500/600], Loss: 0.1535\n",
      "Epoch: [13/25], Step: [600/600], Loss: 0.2832\n",
      "Epoch: [14/25], Step: [100/600], Loss: 0.3154\n",
      "Epoch: [14/25], Step: [200/600], Loss: 0.2417\n",
      "Epoch: [14/25], Step: [300/600], Loss: 0.2909\n",
      "Epoch: [14/25], Step: [400/600], Loss: 0.3380\n",
      "Epoch: [14/25], Step: [500/600], Loss: 0.1560\n",
      "Epoch: [14/25], Step: [600/600], Loss: 0.4031\n",
      "Epoch: [15/25], Step: [100/600], Loss: 0.2207\n",
      "Epoch: [15/25], Step: [200/600], Loss: 0.1559\n",
      "Epoch: [15/25], Step: [300/600], Loss: 0.2842\n",
      "Epoch: [15/25], Step: [400/600], Loss: 0.2608\n",
      "Epoch: [15/25], Step: [500/600], Loss: 0.1262\n",
      "Epoch: [15/25], Step: [600/600], Loss: 0.3540\n",
      "Epoch: [16/25], Step: [100/600], Loss: 0.2115\n",
      "Epoch: [16/25], Step: [200/600], Loss: 0.2801\n",
      "Epoch: [16/25], Step: [300/600], Loss: 0.2575\n",
      "Epoch: [16/25], Step: [400/600], Loss: 0.1649\n",
      "Epoch: [16/25], Step: [500/600], Loss: 0.3145\n",
      "Epoch: [16/25], Step: [600/600], Loss: 0.1214\n",
      "Epoch: [17/25], Step: [100/600], Loss: 0.1855\n",
      "Epoch: [17/25], Step: [200/600], Loss: 0.2858\n",
      "Epoch: [17/25], Step: [300/600], Loss: 0.3195\n",
      "Epoch: [17/25], Step: [400/600], Loss: 0.1829\n",
      "Epoch: [17/25], Step: [500/600], Loss: 0.1412\n",
      "Epoch: [17/25], Step: [600/600], Loss: 0.2230\n",
      "Epoch: [18/25], Step: [100/600], Loss: 0.2654\n",
      "Epoch: [18/25], Step: [200/600], Loss: 0.1965\n",
      "Epoch: [18/25], Step: [300/600], Loss: 0.2622\n",
      "Epoch: [18/25], Step: [400/600], Loss: 0.1683\n",
      "Epoch: [18/25], Step: [500/600], Loss: 0.1986\n",
      "Epoch: [18/25], Step: [600/600], Loss: 0.1285\n",
      "Epoch: [19/25], Step: [100/600], Loss: 0.3002\n",
      "Epoch: [19/25], Step: [200/600], Loss: 0.2923\n",
      "Epoch: [19/25], Step: [300/600], Loss: 0.1530\n",
      "Epoch: [19/25], Step: [400/600], Loss: 0.1117\n",
      "Epoch: [19/25], Step: [500/600], Loss: 0.1648\n",
      "Epoch: [19/25], Step: [600/600], Loss: 0.1072\n",
      "Epoch: [20/25], Step: [100/600], Loss: 0.1523\n",
      "Epoch: [20/25], Step: [200/600], Loss: 0.0725\n",
      "Epoch: [20/25], Step: [300/600], Loss: 0.1457\n",
      "Epoch: [20/25], Step: [400/600], Loss: 0.1661\n",
      "Epoch: [20/25], Step: [500/600], Loss: 0.1411\n",
      "Epoch: [20/25], Step: [600/600], Loss: 0.2179\n",
      "Epoch: [21/25], Step: [100/600], Loss: 0.2123\n",
      "Epoch: [21/25], Step: [200/600], Loss: 0.1821\n",
      "Epoch: [21/25], Step: [300/600], Loss: 0.1717\n",
      "Epoch: [21/25], Step: [400/600], Loss: 0.2486\n",
      "Epoch: [21/25], Step: [500/600], Loss: 0.1655\n",
      "Epoch: [21/25], Step: [600/600], Loss: 0.2999\n",
      "Epoch: [22/25], Step: [100/600], Loss: 0.1301\n",
      "Epoch: [22/25], Step: [200/600], Loss: 0.2097\n",
      "Epoch: [22/25], Step: [300/600], Loss: 0.2076\n",
      "Epoch: [22/25], Step: [400/600], Loss: 0.0805\n",
      "Epoch: [22/25], Step: [500/600], Loss: 0.1260\n",
      "Epoch: [22/25], Step: [600/600], Loss: 0.2147\n",
      "Epoch: [23/25], Step: [100/600], Loss: 0.1804\n",
      "Epoch: [23/25], Step: [200/600], Loss: 0.1612\n",
      "Epoch: [23/25], Step: [300/600], Loss: 0.1156\n",
      "Epoch: [23/25], Step: [400/600], Loss: 0.1444\n",
      "Epoch: [23/25], Step: [500/600], Loss: 0.0897\n",
      "Epoch: [23/25], Step: [600/600], Loss: 0.1570\n",
      "Epoch: [24/25], Step: [100/600], Loss: 0.1833\n",
      "Epoch: [24/25], Step: [200/600], Loss: 0.0674\n",
      "Epoch: [24/25], Step: [300/600], Loss: 0.1521\n",
      "Epoch: [24/25], Step: [400/600], Loss: 0.1743\n",
      "Epoch: [24/25], Step: [500/600], Loss: 0.1681\n",
      "Epoch: [24/25], Step: [600/600], Loss: 0.1362\n",
      "Epoch: [25/25], Step: [100/600], Loss: 0.1083\n",
      "Epoch: [25/25], Step: [200/600], Loss: 0.1924\n",
      "Epoch: [25/25], Step: [300/600], Loss: 0.0798\n",
      "Epoch: [25/25], Step: [400/600], Loss: 0.2612\n",
      "Epoch: [25/25], Step: [500/600], Loss: 0.3185\n",
      "Epoch: [25/25], Step: [600/600], Loss: 0.0999\n"
     ]
    }
   ],
   "source": [
    "training_losses = []\n",
    "train_counter = []\n",
    "c=0\n",
    "\n",
    "# Training the Model: If you Rerun this cell, model start training from where you left it (Weights)\n",
    "for epoch in range(num_epochs):\n",
    "    for i, (images, labels) in enumerate(train_loader):\n",
    "        images = Variable(images.view(-1, 28*28))\n",
    "        labels = Variable(labels)\n",
    "        \n",
    "        # Forward + Backward + Optimize\n",
    "        #Reset the Gradients before Training \n",
    "        optimizer.zero_grad()\n",
    "        outputs = network(images)\n",
    "        #Find loss using predicted output and true labels\n",
    "        loss = criterion(outputs, labels)\n",
    "        #BackProp the grads\n",
    "        loss.backward()\n",
    "        #Update the parameteres\n",
    "        optimizer.step()\n",
    "        \n",
    "        training_losses.append(loss.item())\n",
    "#         train_counter.append((i*64) + ((epoch-1)*len(train_loader.dataset)))\n",
    "        c = c+1\n",
    "        train_counter.append(c)\n",
    "        if (i+1) % 100 == 0:\n",
    "            print ('Epoch: [%d/%d], Step: [%d/%d], Loss: %.4f' \n",
    "                   % (epoch+1, num_epochs, i+1, len(train_dataset)//batch_size, loss.data))\n"
   ]
  },
  {
   "cell_type": "code",
   "execution_count": 230,
   "metadata": {},
   "outputs": [
    {
     "name": "stdout",
     "output_type": "stream",
     "text": [
      "Accuracy of the model on the 10000 test images: 95 %\n"
     ]
    }
   ],
   "source": [
    "correct = 0\n",
    "total = 0\n",
    "for images, labels in test_loader:\n",
    "    images = Variable(images.view(-1, 28*28))\n",
    "    outputs = network(images)\n",
    "    _, predicted = torch.max(outputs.data, 1)\n",
    "    total += labels.size(0)\n",
    "    correct += (predicted == labels).sum()\n",
    "    \n",
    "print('Accuracy of the model on the 10000 test images: %d %%' % (100 * correct / total))"
   ]
  },
  {
   "cell_type": "code",
   "execution_count": 231,
   "metadata": {},
   "outputs": [],
   "source": [
    "#training_losses"
   ]
  },
  {
   "cell_type": "code",
   "execution_count": 232,
   "metadata": {},
   "outputs": [
    {
     "data": {
      "image/png": "[encoded data removed]",
      "text/plain": [
       "<Figure size 432x288 with 1 Axes>"
      ]
     },
     "metadata": {
      "needs_background": "light"
     },
     "output_type": "display_data"
    }
   ],
   "source": [
    "fig = plt.figure()\n",
    "plt.plot(train_counter, training_losses, color='blue')\n",
    "plt.xlabel('number of training examples seen')\n",
    "plt.ylabel('negative log likelihood loss')\n",
    "plt.savefig('4.png')"
   ]
  },
  {
   "cell_type": "code",
   "execution_count": 233,
   "metadata": {},
   "outputs": [
    {
     "name": "stdout",
     "output_type": "stream",
     "text": [
      "Net(\n",
      "  (fc1): Linear(in_features=784, out_features=512, bias=True)\n",
      "  (fc2): Linear(in_features=512, out_features=256, bias=True)\n",
      "  (fc3): Linear(in_features=256, out_features=128, bias=True)\n",
      "  (fc4): Linear(in_features=128, out_features=64, bias=True)\n",
      "  (fc5): Linear(in_features=64, out_features=10, bias=True)\n",
      "  (dropout): Dropout(p=0.2)\n",
      ")\n"
     ]
    }
   ],
   "source": [
    "print(network)"
   ]
  },
  {
   "cell_type": "code",
   "execution_count": null,
   "metadata": {},
   "outputs": [],
   "source": []
  },
  {
   "cell_type": "code",
   "execution_count": null,
   "metadata": {},
   "outputs": [],
   "source": []
  }
 ],
 "metadata": {
  "kernelspec": {
   "display_name": "Python3",
   "language": "python",
   "name": "myenv"
  },
  "language_info": {
   "codemirror_mode": {
    "name": "ipython",
    "version": 3
   },
   "file_extension": ".py",
   "mimetype": "text/x-python",
   "name": "python",
   "nbconvert_exporter": "python",
   "pygments_lexer": "ipython3",
   "version": "3.6.9"
  }
 },
 "nbformat": 4,
 "nbformat_minor": 2
}
