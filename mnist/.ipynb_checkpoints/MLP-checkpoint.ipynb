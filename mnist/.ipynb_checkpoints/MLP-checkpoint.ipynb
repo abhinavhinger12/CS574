{
 "cells": [
  {
   "cell_type": "code",
   "execution_count": 8,
   "metadata": {
    "colab": {},
    "colab_type": "code",
    "id": "s9lm-5s0IZEm"
   },
   "outputs": [],
   "source": [
    "import torch\n",
    "import torch.nn as nn\n",
    "import torchvision.datasets as dsets\n",
    "import torchvision.transforms as transforms\n",
    "from torch.autograd import Variable\n",
    "from torch.nn import functional as F\n",
    "import matplotlib.pyplot as plt\n",
    "from statistics import mean"
   ]
  },
  {
   "cell_type": "code",
   "execution_count": 10,
   "metadata": {
    "colab": {},
    "colab_type": "code",
    "id": "0Vrin5jOIZEp"
   },
   "outputs": [],
   "source": [
    "# Hyper Parameters \n",
    "input_size = 784\n",
    "inter = 56\n",
    "num_classes = 10\n",
    "num_epochs = 15\n",
    "batch_size = 100\n",
    "learning_rate = 0.01\n",
    "momentum = 0.5"
   ]
  },
  {
   "cell_type": "code",
   "execution_count": 11,
   "metadata": {
    "colab": {},
    "colab_type": "code",
    "id": "aeFohO4TIZEr"
   },
   "outputs": [],
   "source": [
    "# MNIST Dataset (Images and Labels)\n",
    "train_dataset = dsets.MNIST(root='./files', \n",
    "                            train=True, \n",
    "                            transform=transforms.ToTensor(),\n",
    "                            download=True)\n",
    "\n",
    "test_dataset = dsets.MNIST(root='./files', \n",
    "                           train=False, \n",
    "                           transform=transforms.ToTensor(),\n",
    "                           download=True)\n",
    "\n",
    "# Dataset Loader (Input Pipline)\n",
    "train_loader = torch.utils.data.DataLoader(dataset=train_dataset, \n",
    "                                           batch_size=batch_size, \n",
    "                                           shuffle=True)\n",
    "\n",
    "test_loader = torch.utils.data.DataLoader(dataset=test_dataset, \n",
    "                                          batch_size=batch_size, \n",
    "                                          shuffle=False)"
   ]
  },
  {
   "cell_type": "code",
   "execution_count": 12,
   "metadata": {
    "colab": {
     "base_uri": "https://localhost:8080/",
     "height": 51
    },
    "colab_type": "code",
    "id": "4eMH1bgKIZEu",
    "outputId": "a4d80f17-b6d8-4afa-b2a9-d3af0e1a42f2",
    "scrolled": true
   },
   "outputs": [
    {
     "name": "stdout",
     "output_type": "stream",
     "text": [
      "60000\n",
      "10000\n"
     ]
    }
   ],
   "source": [
    "print(len(train_dataset))\n",
    "print(len(test_dataset))"
   ]
  },
  {
   "cell_type": "code",
   "execution_count": 13,
   "metadata": {
    "colab": {},
    "colab_type": "code",
    "id": "4pQraNXASO5k"
   },
   "outputs": [],
   "source": [
    "# GPU\n",
    "device = torch.device(\"cuda:0\" if torch.cuda.is_available() else \"cpu\")"
   ]
  },
  {
   "cell_type": "markdown",
   "metadata": {
    "colab_type": "text",
    "id": "XK2Ga6EAIZEx"
   },
   "source": [
    "## MODEL"
   ]
  },
  {
   "cell_type": "code",
   "execution_count": 19,
   "metadata": {
    "colab": {},
    "colab_type": "code",
    "id": "RT16qA75IZEy"
   },
   "outputs": [],
   "source": [
    "class MLP1linear(nn.Module):\n",
    "    def __init__(self, input_size, inter,num_classes):\n",
    "        super(MLP1linear, self).__init__()\n",
    "        self.fc1 = nn.Linear(input_size, inter)\n",
    "        self.fc2 = nn.Linear(inter, num_classes)\n",
    "    \n",
    "    def forward(self, x):\n",
    "        out = self.fc2(self.fc1(x))\n",
    "        return out\n",
    "      \n",
    "class MLP1relu(nn.Module):\n",
    "    def __init__(self, input_size, inter,num_classes):\n",
    "        super(MLP1relu, self).__init__()\n",
    "        self.fc1 = nn.Linear(input_size, inter)\n",
    "        self.fc2 = nn.Linear(inter, num_classes)\n",
    "    \n",
    "    def forward(self, x):\n",
    "        out = self.fc2(F.relu(self.fc1(x)))\n",
    "        return out\n",
    "\n",
    "class MLP1relu2(nn.Module):\n",
    "    def __init__(self, input_size, inter,num_classes):\n",
    "        super(MLP1relu2, self).__init__()\n",
    "        self.fc1 = nn.Linear(input_size, inter)    \n",
    "        self.dropper = nn.Dropout(p=0.2)\n",
    "        self.fc2 = nn.Linear(inter, num_classes)\n",
    "    \n",
    "    def forward(self, x):\n",
    "        out = self.fc2(self.dropper(F.relu(self.fc1(x))))\n",
    "        return out\n",
    "\n",
    "      \n",
    "class MLP1relu3(nn.Module):\n",
    "    def __init__(self, input_size, inter,num_classes):\n",
    "        super(MLP1relu3, self).__init__()\n",
    "        self.fc1 = nn.Linear(input_size, inter)    \n",
    "        self.dropper = nn.Dropout(p=0.3)\n",
    "        self.fc2 = nn.Linear(inter, num_classes)\n",
    "    \n",
    "    def forward(self, x):\n",
    "        out = self.fc2(self.dropper(F.relu(self.fc1(x))))\n",
    "        return out\n",
    "      \n",
    "\n",
    "class MLP1relu5(nn.Module):\n",
    "    def __init__(self, input_size, inter,num_classes):\n",
    "        super(MLP1relu5, self).__init__()\n",
    "        self.fc1 = nn.Linear(input_size, inter)    \n",
    "        self.dropper = nn.Dropout(p=0.5)\n",
    "        self.fc2 = nn.Linear(inter, num_classes)\n",
    "    \n",
    "    def forward(self, x):\n",
    "        out = self.fc2(self.dropper(F.relu(self.fc1(x))))\n",
    "        return out\n",
    "      \n",
    "class MLP1tanh(nn.Module):\n",
    "    def __init__(self, input_size, inter,num_classes):\n",
    "        super(MLP1tanh, self).__init__()\n",
    "        self.fc1 = nn.Linear(input_size, inter)\n",
    "        self.fc2 = nn.Linear(inter, num_classes)\n",
    "    \n",
    "    def forward(self, x):\n",
    "        out = self.fc2(F.tanh(self.fc1(x)))\n",
    "        return out\n",
    "      \n",
    "class MLP1sig(nn.Module):\n",
    "    def __init__(self, input_size, inter,num_classes):\n",
    "        super(MLP1tanh, self).__init__()\n",
    "        self.fc1 = nn.Linear(input_size, inter)\n",
    "        self.fc2 = nn.Linear(inter, num_classes)\n",
    "    \n",
    "    def forward(self, x):\n",
    "        out = self.fc2(F.sigmoid(self.fc1(x)))\n",
    "        return out\n",
    "\n",
    "      \n",
    "class MLP2linear(nn.Module):\n",
    "    def __init__(self, input_size, inter,num_classes):\n",
    "        super(MLP2linear, self).__init__()\n",
    "        self.fc1 = nn.Linear(input_size, 300)\n",
    "        self.fc2 = nn.Linear(300, inter)\n",
    "        self.fc3 = nn.Linear(inter, num_classes)\n",
    "    \n",
    "\n",
    "    def forward(self, x):\n",
    "        out = self.fc3(self.fc2(self.fc1(x)))\n",
    "        return out\n",
    "\n",
    "class MLP3linear(nn.Module):\n",
    "    def __init__(self, input_size, inter,num_classes):\n",
    "        super(MLP2linear, self).__init__()\n",
    "        self.fc1 = nn.Linear(input_size, 300)\n",
    "        self.fc2 = nn.Linear(300, inter)\n",
    "        self.fc3 = nn.Linear(inter, num_classes)\n",
    "\n",
    "    def forward(self, x):\n",
    "        out = self.fc4(self.fc3(self.fc2(self.fc1(x))))\n",
    "        return out\n",
    "\n",
    "\n",
    "\n",
    "class CNN1c(nn.Module):\n",
    "    def __init__(self, input_size, inter,num_classes):\n",
    "        super(CNN1c, self).__init__()\n",
    "        self.conv1 = nn.Conv2d(1, 10, kernel_size=5)\n",
    "        self.fc1 = nn.Linear(1440, 50)\n",
    "        self.fc2 = nn.Linear(50, 10)\n",
    "\n",
    "    def forward(self, x):\n",
    "        x = F.relu(F.max_pool2d(self.conv1(x), 2))\n",
    "        x = x.view(-1, 1440)\n",
    "        x = F.relu(self.fc1(x))\n",
    "        x = self.fc2(x)\n",
    "        return F.log_softmax(x)\n",
    "\n",
    "class CNN2c(nn.Module):\n",
    "    def __init__(self, input_size, inter,num_classes):\n",
    "        super(CNN2c, self).__init__()\n",
    "        self.conv1 = nn.Conv2d(1, 10, kernel_size=5)\n",
    "        self.conv2 = nn.Conv2d(10, 20, kernel_size=5)\n",
    "        self.fc1 = nn.Linear(320, 50)\n",
    "        self.fc2 = nn.Linear(50, 10)\n",
    "\n",
    "    def forward(self, x):\n",
    "        x = F.relu(F.max_pool2d(self.conv1(x), 2))\n",
    "        x = F.relu(F.max_pool2d(self.conv2(x), 2))\n",
    "        x = x.view(-1, 320)\n",
    "        x = F.relu(self.fc1(x))\n",
    "        x = self.fc2(x)\n",
    "        return F.log_softmax(x)\n",
    "\n",
    "\n",
    "class CNN1ck3(nn.Module):\n",
    "    def __init__(self, input_size, inter,num_classes):\n",
    "        super(CNN1ck3, self).__init__()\n",
    "        self.conv1 = nn.Conv2d(1, 10, kernel_size=3)\n",
    "        self.fc1 = nn.Linear(1690, 320)\n",
    "        self.fc2 = nn.Linear(320, 10)\n",
    "\n",
    "    def forward(self, x):\n",
    "        x = F.relu(F.max_pool2d(self.conv1(x), 2))\n",
    "        x = x.view(-1, 1690)\n",
    "        x = F.relu(self.fc1(x))\n",
    "        x = self.fc2(x)\n",
    "        return F.log_softmax(x)\n",
    "    \n",
    "class CNN1ck5(nn.Module):\n",
    "    def __init__(self, input_size, inter,num_classes):\n",
    "        super(Net, self).__init__()\n",
    "        self.conv1 = nn.Conv2d(1, 10, kernel_size=5)\n",
    "        self.fc1 = nn.Linear(1440, 320)\n",
    "        self.fc2 = nn.Linear(320, 10)\n",
    "\n",
    "    def forward(self, x):\n",
    "        x = F.relu(F.max_pool2d(self.conv1(x), 2))\n",
    "        x = x.view(-1, 1440)\n",
    "        x = F.relu(self.fc1(x))\n",
    "        x = self.fc2(x)\n",
    "        return F.log_softmax(x)\n",
    "\n",
    "class CNN1ck7(nn.Module):\n",
    "    def __init__(self, input_size, inter,num_classes):\n",
    "        super(Net, self).__init__()\n",
    "        self.conv1 = nn.Conv2d(1, 10, kernel_size=7)\n",
    "        self.fc1 = nn.Linear(1210, 320)\n",
    "        self.fc2 = nn.Linear(320, 10)\n",
    "\n",
    "    def forward(self, x):\n",
    "        x = F.relu(F.max_pool2d(self.conv1(x), 2))\n",
    "        x = x.view(-1, 1210)\n",
    "        x = F.relu(self.fc1(x))\n",
    "        x = self.fc2(x)\n",
    "        return F.log_softmax(x)\n",
    "\n",
    "class CNN2cLinear(nn.Module):\n",
    "    def __init__(self, input_size, inter,num_classes):\n",
    "        super(Net, self).__init__()\n",
    "        self.conv1 = nn.Conv2d(1, 10, kernel_size=5)\n",
    "        self.conv2 = nn.Conv2d(10, 20, kernel_size=5)\n",
    "        self.fc1 = nn.Linear(320, 50)\n",
    "        self.fc2 = nn.Linear(50, 10)\n",
    "\n",
    "    def forward(self, x):\n",
    "        x = (F.max_pool2d(self.conv1(x), 2))\n",
    "        x = (F.max_pool2d(self.conv2(x), 2))\n",
    "        x = x.view(-1, 320)\n",
    "        x = (self.fc1(x))\n",
    "        x = self.fc2(x)\n",
    "        return F.log_softmax(x)\n",
    "\n",
    "class CNN2cTanh(nn.Module):\n",
    "    def __init__(self, input_size, inter,num_classes):\n",
    "        super(Net, self).__init__()\n",
    "        self.conv1 = nn.Conv2d(1, 10, kernel_size=5)\n",
    "        self.conv2 = nn.Conv2d(10, 20, kernel_size=5)\n",
    "        self.fc1 = nn.Linear(320, 50)\n",
    "        self.fc2 = nn.Linear(50, 10)\n",
    "\n",
    "    def forward(self, x):\n",
    "        x = F.tanh(F.max_pool2d(self.conv1(x), 2))\n",
    "        x = F.tanh(F.max_pool2d(self.conv2(x), 2))\n",
    "        x = x.view(-1, 320)\n",
    "        x = F.tanh(self.fc1(x))\n",
    "        x = self.fc2(x)\n",
    "        return F.log_softmax(x)\n",
    "\n",
    "class CNN2cSigmoid(nn.Module):\n",
    "    def __init__(self, input_size, inter,num_classes):\n",
    "        super(Net, self).__init__()\n",
    "        self.conv1 = nn.Conv2d(1, 10, kernel_size=5)\n",
    "        self.conv2 = nn.Conv2d(10, 20, kernel_size=5)\n",
    "        self.fc1 = nn.Linear(320, 50)\n",
    "        self.fc2 = nn.Linear(50, 10)\n",
    "\n",
    "    def forward(self, x):\n",
    "        x = F.sigmoid(F.max_pool2d(self.conv1(x), 2))\n",
    "        x = F.sigmoid(F.max_pool2d(self.conv2(x), 2))\n",
    "        x = x.view(-1, 320)\n",
    "        x = F.sigmoid(self.fc1(x))\n",
    "        x = self.fc2(x)\n",
    "        return F.log_softmax(x)\n",
    "\n",
    "class CNN1cNK5(nn.Module):\n",
    "    def __init__(self, input_size, inter,num_classes):\n",
    "        super(Net, self).__init__()\n",
    "        self.conv1 = nn.Conv2d(1, 5, kernel_size=5)\n",
    "        self.fc1 = nn.Linear(720, 320)\n",
    "        self.fc2 = nn.Linear(320, 10)\n",
    "\n",
    "    def forward(self, x):\n",
    "        x = F.relu(F.max_pool2d(self.conv1(x), 2))\n",
    "        x = x.view(-1, 720)\n",
    "        x = F.relu(self.fc1(x))\n",
    "        x = self.fc2(x)\n",
    "        return F.log_softmax(x)\n",
    "\n",
    "class CNN1cNK10(nn.Module):\n",
    "    def __init__(self, input_size, inter,num_classes):\n",
    "        super(Net, self).__init__()\n",
    "        self.conv1 = nn.Conv2d(1, 10, kernel_size=5)\n",
    "        self.fc1 = nn.Linear(1440, 320)\n",
    "        self.fc2 = nn.Linear(320, 10)\n",
    "\n",
    "    def forward(self, x):\n",
    "        x = F.relu(F.max_pool2d(self.conv1(x), 2))\n",
    "        x = x.view(-1, 1440)\n",
    "        x = F.relu(self.fc1(x))\n",
    "        x = self.fc2(x)\n",
    "        return F.log_softmax(x)\n",
    "\n",
    "class CNN1cNK20(nn.Module):\n",
    "    def __init__(self, input_size, inter,num_classes):\n",
    "        super(Net, self).__init__()\n",
    "        self.conv1 = nn.Conv2d(1, 20, kernel_size=5)\n",
    "        self.fc1 = nn.Linear(2880, 320)\n",
    "        self.fc2 = nn.Linear(320, 10)\n",
    "\n",
    "    def forward(self, x):\n",
    "        x = F.relu(F.max_pool2d(self.conv1(x), 2))\n",
    "        x = x.view(-1, 2880)\n",
    "        x = F.relu(self.fc1(x))\n",
    "        x = self.fc2(x)\n",
    "        return F.log_softmax(x)\n"
   ]
  },
  {
   "cell_type": "code",
   "execution_count": 20,
   "metadata": {
    "colab": {},
    "colab_type": "code",
    "id": "ofv3r483Xs2J"
   },
   "outputs": [],
   "source": [
    "\n",
    "def test(test_loader,device,model,criterion,reshape):\n",
    "  correct = 0\n",
    "  total = 0\n",
    "  test_loss = []\n",
    "  for images, labels in test_loader:\n",
    "      images = images.to(device)\n",
    "      labels = labels.to(device)\n",
    "      if reshape==1:\n",
    "          images = Variable(images.view(-1, 28*28))\n",
    "      outputs = model(images)\n",
    "      loss = criterion(outputs, labels)\n",
    "      _, predicted = torch.max(outputs.data, 1)\n",
    "      total += labels.size(0)\n",
    "      correct += (predicted == labels).sum()\n",
    "      test_loss.append(loss.item())\n",
    "  \n",
    "  return (int( (100 * correct / total))),mean(test_loss)\n",
    "      \n",
    "\n",
    "\n",
    "def runner(input_size, inter, num_classes, filename,train_loader, test_loader,learning_rate,device,num_epochs,momentum,model_class,criterion,reshape):\n",
    "  model = model_class(input_size, inter, num_classes)\n",
    "  model.to(device)\n",
    "  optimizer = torch.optim.SGD(model.parameters(), lr=learning_rate, momentum=momentum)\n",
    "  training_losses = []\n",
    "  accuracy = []\n",
    "  test_loss = []\n",
    "  accuracy_test = []\n",
    "  for epoch in range(num_epochs):\n",
    "      print(epoch,num_epochs)\n",
    "      correct = 0\n",
    "      train_loss = []\n",
    "      total = 0\n",
    "      for i, (images, labels) in enumerate(train_loader):\n",
    "          images = images.to(device)\n",
    "          labels = labels.to(device)\n",
    "          if reshape==1:\n",
    "              images = Variable(images.view(-1, 28*28))\n",
    "          labels = Variable(labels)\n",
    "          optimizer.zero_grad()\n",
    "          outputs = model(images)\n",
    "          loss = criterion(outputs, labels)\n",
    "          total += labels.size(0)\n",
    "          _, predicted = torch.max(outputs.data, 1)\n",
    "          correct += (predicted==labels).sum()\n",
    "          loss.backward()\n",
    "          optimizer.step()\n",
    "          train_loss.append(loss.item())\n",
    "      acc, lo = test(test_loader,device,model,criterion,reshape)\n",
    "      test_loss.append(lo)\n",
    "      training_losses.append(mean(train_loss))\n",
    "      accuracy_test.append(acc)\n",
    "      accuracy.append(int( (100 * correct / total)))\n",
    "      \n",
    "\n",
    "#   accuracy = int( (100 * correct / total))\n",
    "  fig = plt.figure()\n",
    "  plt.plot(range(len(training_losses)+1)[1:], training_losses,label='Train')\n",
    "  plt.plot(range(len(test_loss)+1)[1:], test_loss,label='Test')\n",
    "  plt.title('Loss vs Epoch - ' + str(filename))\n",
    "  plt.xlabel('Epochs')\n",
    "  plt.legend()\n",
    "  plt.ylabel('Loss')\n",
    "  plt.savefig(str(filename) + ' loss vs epoch.png')\n",
    "  plt.clf()\n",
    "  fig = plt.figure()\n",
    "  plt.plot(range(len(accuracy)+1)[1:], accuracy,label='Train')\n",
    "  plt.plot(range(len(accuracy_test)+1)[1:], accuracy_test,label='Test')\n",
    "  plt.title('Accuracy vs Epoch - ' + str(filename))\n",
    "  plt.xlabel('Epochs')\n",
    "  plt.ylabel('Accuracy')\n",
    "  plt.legend()\n",
    "  plt.savefig(str(filename) + ' accuracy vs epoch.png')\n",
    "  return [accuracy_test,test_loss]\n",
    "\n",
    "def plot_losses(losses,title,loa=1):\n",
    "  # loa == loss or accuracy\n",
    "  ylabel = 'Accuracy'\n",
    "  if loa == 2:\n",
    "    ylabel = 'Loss'\n",
    "  \n",
    "  fig = plt.figure()\n",
    "  for _loss in losses:\n",
    "    loss = _loss[loa]\n",
    "    label = _loss[0]\n",
    "    plt.plot(range(len(loss)+1)[1:], loss,label=label)\n",
    "  plt.title(title)\n",
    "  plt.xlabel('Epochs')\n",
    "  plt.ylabel(ylabel)\n",
    "  plt.legend()\n",
    "  plt.savefig(title+'.png')\n",
    "  "
   ]
  },
  {
   "cell_type": "code",
   "execution_count": 21,
   "metadata": {
    "colab": {
     "base_uri": "https://localhost:8080/",
     "height": 879
    },
    "colab_type": "code",
    "id": "9VDbN6wtIZE0",
    "outputId": "fee6187e-3698-48ba-8d5b-f2c919339b31",
    "scrolled": true
   },
   "outputs": [
    {
     "name": "stdout",
     "output_type": "stream",
     "text": [
      "0 15\n"
     ]
    },
    {
     "ename": "RuntimeError",
     "evalue": "Expected 4-dimensional input for 4-dimensional weight 10 1, but got 2-dimensional input of size [100, 784] instead",
     "output_type": "error",
     "traceback": [
      "\u001b[0;31m---------------------------------------------------------------------------\u001b[0m",
      "\u001b[0;31mRuntimeError\u001b[0m                              Traceback (most recent call last)",
      "\u001b[0;32m<ipython-input-21-6121b8436aee>\u001b[0m in \u001b[0;36m<module>\u001b[0;34m\u001b[0m\n\u001b[1;32m      6\u001b[0m \u001b[0;34m\u001b[0m\u001b[0m\n\u001b[1;32m      7\u001b[0m \u001b[0mfilename\u001b[0m \u001b[0;34m=\u001b[0m \u001b[0;34m'CNN 1 Conv Layer'\u001b[0m\u001b[0;34m\u001b[0m\u001b[0;34m\u001b[0m\u001b[0m\n\u001b[0;32m----> 8\u001b[0;31m \u001b[0mz\u001b[0m \u001b[0;34m=\u001b[0m \u001b[0;34m[\u001b[0m\u001b[0mfilename\u001b[0m\u001b[0;34m]\u001b[0m \u001b[0;34m+\u001b[0m \u001b[0mrunner\u001b[0m\u001b[0;34m(\u001b[0m\u001b[0;36m784\u001b[0m\u001b[0;34m,\u001b[0m\u001b[0;36m56\u001b[0m\u001b[0;34m,\u001b[0m\u001b[0;36m10\u001b[0m\u001b[0;34m,\u001b[0m\u001b[0mfilename\u001b[0m\u001b[0;34m,\u001b[0m\u001b[0mtrain_loader\u001b[0m\u001b[0;34m,\u001b[0m\u001b[0mtest_loader\u001b[0m\u001b[0;34m,\u001b[0m\u001b[0mlearning_rate\u001b[0m\u001b[0;34m,\u001b[0m\u001b[0mdevice\u001b[0m\u001b[0;34m,\u001b[0m\u001b[0mnum_epochs\u001b[0m\u001b[0;34m,\u001b[0m\u001b[0mmomentum\u001b[0m\u001b[0;34m,\u001b[0m\u001b[0mCNN1c\u001b[0m\u001b[0;34m,\u001b[0m\u001b[0mF\u001b[0m\u001b[0;34m.\u001b[0m\u001b[0mnll_loss\u001b[0m\u001b[0;34m)\u001b[0m\u001b[0;34m\u001b[0m\u001b[0;34m\u001b[0m\u001b[0m\n\u001b[0m\u001b[1;32m      9\u001b[0m \u001b[0mlayers\u001b[0m\u001b[0;34m.\u001b[0m\u001b[0mappend\u001b[0m\u001b[0;34m(\u001b[0m\u001b[0mz\u001b[0m\u001b[0;34m)\u001b[0m\u001b[0;34m\u001b[0m\u001b[0;34m\u001b[0m\u001b[0m\n\u001b[1;32m     10\u001b[0m \u001b[0;34m\u001b[0m\u001b[0m\n",
      "\u001b[0;32m<ipython-input-20-9537c1963350>\u001b[0m in \u001b[0;36mrunner\u001b[0;34m(input_size, inter, num_classes, filename, train_loader, test_loader, learning_rate, device, num_epochs, momentum, model_class, criterion)\u001b[0m\n\u001b[1;32m     37\u001b[0m           \u001b[0mlabels\u001b[0m \u001b[0;34m=\u001b[0m \u001b[0mVariable\u001b[0m\u001b[0;34m(\u001b[0m\u001b[0mlabels\u001b[0m\u001b[0;34m)\u001b[0m\u001b[0;34m\u001b[0m\u001b[0;34m\u001b[0m\u001b[0m\n\u001b[1;32m     38\u001b[0m           \u001b[0moptimizer\u001b[0m\u001b[0;34m.\u001b[0m\u001b[0mzero_grad\u001b[0m\u001b[0;34m(\u001b[0m\u001b[0;34m)\u001b[0m\u001b[0;34m\u001b[0m\u001b[0;34m\u001b[0m\u001b[0m\n\u001b[0;32m---> 39\u001b[0;31m           \u001b[0moutputs\u001b[0m \u001b[0;34m=\u001b[0m \u001b[0mmodel\u001b[0m\u001b[0;34m(\u001b[0m\u001b[0mimages\u001b[0m\u001b[0;34m)\u001b[0m\u001b[0;34m\u001b[0m\u001b[0;34m\u001b[0m\u001b[0m\n\u001b[0m\u001b[1;32m     40\u001b[0m           \u001b[0mloss\u001b[0m \u001b[0;34m=\u001b[0m \u001b[0mcriterion\u001b[0m\u001b[0;34m(\u001b[0m\u001b[0moutputs\u001b[0m\u001b[0;34m,\u001b[0m \u001b[0mlabels\u001b[0m\u001b[0;34m)\u001b[0m\u001b[0;34m\u001b[0m\u001b[0;34m\u001b[0m\u001b[0m\n\u001b[1;32m     41\u001b[0m           \u001b[0mtotal\u001b[0m \u001b[0;34m+=\u001b[0m \u001b[0mlabels\u001b[0m\u001b[0;34m.\u001b[0m\u001b[0msize\u001b[0m\u001b[0;34m(\u001b[0m\u001b[0;36m0\u001b[0m\u001b[0;34m)\u001b[0m\u001b[0;34m\u001b[0m\u001b[0;34m\u001b[0m\u001b[0m\n",
      "\u001b[0;32m~/anaconda3/envs/fai/lib/python3.6/site-packages/torch/nn/modules/module.py\u001b[0m in \u001b[0;36m__call__\u001b[0;34m(self, *input, **kwargs)\u001b[0m\n\u001b[1;32m    545\u001b[0m             \u001b[0mresult\u001b[0m \u001b[0;34m=\u001b[0m \u001b[0mself\u001b[0m\u001b[0;34m.\u001b[0m\u001b[0m_slow_forward\u001b[0m\u001b[0;34m(\u001b[0m\u001b[0;34m*\u001b[0m\u001b[0minput\u001b[0m\u001b[0;34m,\u001b[0m \u001b[0;34m**\u001b[0m\u001b[0mkwargs\u001b[0m\u001b[0;34m)\u001b[0m\u001b[0;34m\u001b[0m\u001b[0;34m\u001b[0m\u001b[0m\n\u001b[1;32m    546\u001b[0m         \u001b[0;32melse\u001b[0m\u001b[0;34m:\u001b[0m\u001b[0;34m\u001b[0m\u001b[0;34m\u001b[0m\u001b[0m\n\u001b[0;32m--> 547\u001b[0;31m             \u001b[0mresult\u001b[0m \u001b[0;34m=\u001b[0m \u001b[0mself\u001b[0m\u001b[0;34m.\u001b[0m\u001b[0mforward\u001b[0m\u001b[0;34m(\u001b[0m\u001b[0;34m*\u001b[0m\u001b[0minput\u001b[0m\u001b[0;34m,\u001b[0m \u001b[0;34m**\u001b[0m\u001b[0mkwargs\u001b[0m\u001b[0;34m)\u001b[0m\u001b[0;34m\u001b[0m\u001b[0;34m\u001b[0m\u001b[0m\n\u001b[0m\u001b[1;32m    548\u001b[0m         \u001b[0;32mfor\u001b[0m \u001b[0mhook\u001b[0m \u001b[0;32min\u001b[0m \u001b[0mself\u001b[0m\u001b[0;34m.\u001b[0m\u001b[0m_forward_hooks\u001b[0m\u001b[0;34m.\u001b[0m\u001b[0mvalues\u001b[0m\u001b[0;34m(\u001b[0m\u001b[0;34m)\u001b[0m\u001b[0;34m:\u001b[0m\u001b[0;34m\u001b[0m\u001b[0;34m\u001b[0m\u001b[0m\n\u001b[1;32m    549\u001b[0m             \u001b[0mhook_result\u001b[0m \u001b[0;34m=\u001b[0m \u001b[0mhook\u001b[0m\u001b[0;34m(\u001b[0m\u001b[0mself\u001b[0m\u001b[0;34m,\u001b[0m \u001b[0minput\u001b[0m\u001b[0;34m,\u001b[0m \u001b[0mresult\u001b[0m\u001b[0;34m)\u001b[0m\u001b[0;34m\u001b[0m\u001b[0;34m\u001b[0m\u001b[0m\n",
      "\u001b[0;32m<ipython-input-19-3f6854609fca>\u001b[0m in \u001b[0;36mforward\u001b[0;34m(self, x)\u001b[0m\n\u001b[1;32m    108\u001b[0m \u001b[0;34m\u001b[0m\u001b[0m\n\u001b[1;32m    109\u001b[0m     \u001b[0;32mdef\u001b[0m \u001b[0mforward\u001b[0m\u001b[0;34m(\u001b[0m\u001b[0mself\u001b[0m\u001b[0;34m,\u001b[0m \u001b[0mx\u001b[0m\u001b[0;34m)\u001b[0m\u001b[0;34m:\u001b[0m\u001b[0;34m\u001b[0m\u001b[0;34m\u001b[0m\u001b[0m\n\u001b[0;32m--> 110\u001b[0;31m         \u001b[0mx\u001b[0m \u001b[0;34m=\u001b[0m \u001b[0mF\u001b[0m\u001b[0;34m.\u001b[0m\u001b[0mrelu\u001b[0m\u001b[0;34m(\u001b[0m\u001b[0mF\u001b[0m\u001b[0;34m.\u001b[0m\u001b[0mmax_pool2d\u001b[0m\u001b[0;34m(\u001b[0m\u001b[0mself\u001b[0m\u001b[0;34m.\u001b[0m\u001b[0mconv1\u001b[0m\u001b[0;34m(\u001b[0m\u001b[0mx\u001b[0m\u001b[0;34m)\u001b[0m\u001b[0;34m,\u001b[0m \u001b[0;36m2\u001b[0m\u001b[0;34m)\u001b[0m\u001b[0;34m)\u001b[0m\u001b[0;34m\u001b[0m\u001b[0;34m\u001b[0m\u001b[0m\n\u001b[0m\u001b[1;32m    111\u001b[0m         \u001b[0mx\u001b[0m \u001b[0;34m=\u001b[0m \u001b[0mx\u001b[0m\u001b[0;34m.\u001b[0m\u001b[0mview\u001b[0m\u001b[0;34m(\u001b[0m\u001b[0;34m-\u001b[0m\u001b[0;36m1\u001b[0m\u001b[0;34m,\u001b[0m \u001b[0;36m1440\u001b[0m\u001b[0;34m)\u001b[0m\u001b[0;34m\u001b[0m\u001b[0;34m\u001b[0m\u001b[0m\n\u001b[1;32m    112\u001b[0m         \u001b[0mx\u001b[0m \u001b[0;34m=\u001b[0m \u001b[0mF\u001b[0m\u001b[0;34m.\u001b[0m\u001b[0mrelu\u001b[0m\u001b[0;34m(\u001b[0m\u001b[0mself\u001b[0m\u001b[0;34m.\u001b[0m\u001b[0mfc1\u001b[0m\u001b[0;34m(\u001b[0m\u001b[0mx\u001b[0m\u001b[0;34m)\u001b[0m\u001b[0;34m)\u001b[0m\u001b[0;34m\u001b[0m\u001b[0;34m\u001b[0m\u001b[0m\n",
      "\u001b[0;32m~/anaconda3/envs/fai/lib/python3.6/site-packages/torch/nn/modules/module.py\u001b[0m in \u001b[0;36m__call__\u001b[0;34m(self, *input, **kwargs)\u001b[0m\n\u001b[1;32m    545\u001b[0m             \u001b[0mresult\u001b[0m \u001b[0;34m=\u001b[0m \u001b[0mself\u001b[0m\u001b[0;34m.\u001b[0m\u001b[0m_slow_forward\u001b[0m\u001b[0;34m(\u001b[0m\u001b[0;34m*\u001b[0m\u001b[0minput\u001b[0m\u001b[0;34m,\u001b[0m \u001b[0;34m**\u001b[0m\u001b[0mkwargs\u001b[0m\u001b[0;34m)\u001b[0m\u001b[0;34m\u001b[0m\u001b[0;34m\u001b[0m\u001b[0m\n\u001b[1;32m    546\u001b[0m         \u001b[0;32melse\u001b[0m\u001b[0;34m:\u001b[0m\u001b[0;34m\u001b[0m\u001b[0;34m\u001b[0m\u001b[0m\n\u001b[0;32m--> 547\u001b[0;31m             \u001b[0mresult\u001b[0m \u001b[0;34m=\u001b[0m \u001b[0mself\u001b[0m\u001b[0;34m.\u001b[0m\u001b[0mforward\u001b[0m\u001b[0;34m(\u001b[0m\u001b[0;34m*\u001b[0m\u001b[0minput\u001b[0m\u001b[0;34m,\u001b[0m \u001b[0;34m**\u001b[0m\u001b[0mkwargs\u001b[0m\u001b[0;34m)\u001b[0m\u001b[0;34m\u001b[0m\u001b[0;34m\u001b[0m\u001b[0m\n\u001b[0m\u001b[1;32m    548\u001b[0m         \u001b[0;32mfor\u001b[0m \u001b[0mhook\u001b[0m \u001b[0;32min\u001b[0m \u001b[0mself\u001b[0m\u001b[0;34m.\u001b[0m\u001b[0m_forward_hooks\u001b[0m\u001b[0;34m.\u001b[0m\u001b[0mvalues\u001b[0m\u001b[0;34m(\u001b[0m\u001b[0;34m)\u001b[0m\u001b[0;34m:\u001b[0m\u001b[0;34m\u001b[0m\u001b[0;34m\u001b[0m\u001b[0m\n\u001b[1;32m    549\u001b[0m             \u001b[0mhook_result\u001b[0m \u001b[0;34m=\u001b[0m \u001b[0mhook\u001b[0m\u001b[0;34m(\u001b[0m\u001b[0mself\u001b[0m\u001b[0;34m,\u001b[0m \u001b[0minput\u001b[0m\u001b[0;34m,\u001b[0m \u001b[0mresult\u001b[0m\u001b[0;34m)\u001b[0m\u001b[0;34m\u001b[0m\u001b[0;34m\u001b[0m\u001b[0m\n",
      "\u001b[0;32m~/anaconda3/envs/fai/lib/python3.6/site-packages/torch/nn/modules/conv.py\u001b[0m in \u001b[0;36mforward\u001b[0;34m(self, input)\u001b[0m\n\u001b[1;32m    341\u001b[0m \u001b[0;34m\u001b[0m\u001b[0m\n\u001b[1;32m    342\u001b[0m     \u001b[0;32mdef\u001b[0m \u001b[0mforward\u001b[0m\u001b[0;34m(\u001b[0m\u001b[0mself\u001b[0m\u001b[0;34m,\u001b[0m \u001b[0minput\u001b[0m\u001b[0;34m)\u001b[0m\u001b[0;34m:\u001b[0m\u001b[0;34m\u001b[0m\u001b[0;34m\u001b[0m\u001b[0m\n\u001b[0;32m--> 343\u001b[0;31m         \u001b[0;32mreturn\u001b[0m \u001b[0mself\u001b[0m\u001b[0;34m.\u001b[0m\u001b[0mconv2d_forward\u001b[0m\u001b[0;34m(\u001b[0m\u001b[0minput\u001b[0m\u001b[0;34m,\u001b[0m \u001b[0mself\u001b[0m\u001b[0;34m.\u001b[0m\u001b[0mweight\u001b[0m\u001b[0;34m)\u001b[0m\u001b[0;34m\u001b[0m\u001b[0;34m\u001b[0m\u001b[0m\n\u001b[0m\u001b[1;32m    344\u001b[0m \u001b[0;34m\u001b[0m\u001b[0m\n\u001b[1;32m    345\u001b[0m \u001b[0;32mclass\u001b[0m \u001b[0mConv3d\u001b[0m\u001b[0;34m(\u001b[0m\u001b[0m_ConvNd\u001b[0m\u001b[0;34m)\u001b[0m\u001b[0;34m:\u001b[0m\u001b[0;34m\u001b[0m\u001b[0;34m\u001b[0m\u001b[0m\n",
      "\u001b[0;32m~/anaconda3/envs/fai/lib/python3.6/site-packages/torch/nn/modules/conv.py\u001b[0m in \u001b[0;36mconv2d_forward\u001b[0;34m(self, input, weight)\u001b[0m\n\u001b[1;32m    338\u001b[0m                             _pair(0), self.dilation, self.groups)\n\u001b[1;32m    339\u001b[0m         return F.conv2d(input, weight, self.bias, self.stride,\n\u001b[0;32m--> 340\u001b[0;31m                         self.padding, self.dilation, self.groups)\n\u001b[0m\u001b[1;32m    341\u001b[0m \u001b[0;34m\u001b[0m\u001b[0m\n\u001b[1;32m    342\u001b[0m     \u001b[0;32mdef\u001b[0m \u001b[0mforward\u001b[0m\u001b[0;34m(\u001b[0m\u001b[0mself\u001b[0m\u001b[0;34m,\u001b[0m \u001b[0minput\u001b[0m\u001b[0;34m)\u001b[0m\u001b[0;34m:\u001b[0m\u001b[0;34m\u001b[0m\u001b[0;34m\u001b[0m\u001b[0m\n",
      "\u001b[0;31mRuntimeError\u001b[0m: Expected 4-dimensional input for 4-dimensional weight 10 1, but got 2-dimensional input of size [100, 784] instead"
     ]
    }
   ],
   "source": [
    "conv_layers = []\n",
    "conv_activation = []\n",
    "conv_nkernel = []\n",
    "conv_kernelsize = []\n",
    "\n",
    "\n",
    "filename = 'CNN 1 Conv Layer'\n",
    "z = [filename] + runner(784,56,10,filename,train_loader,test_loader,learning_rate,device,num_epochs,momentum,CNN1c,F.nll_loss,0)\n",
    "layers.append(z)\n",
    "\n",
    "filename = 'CNN 2 Conv Layer'\n",
    "z = [filename] + runner(784,56,10,filename,train_loader,test_loader,learning_rate,device,num_epochs,momentum,CNN2c,F.nll_loss,0)\n",
    "layers.append(z)\n",
    "\n",
    "# filename = 'MLP 1 Hidden Layer Relu With 20% dropout'\n",
    "# z = [filename] + runner(784,56,10,filename,train_loader,test_loader,learning_rate,device,num_epochs,momentum,MLP1relu2,nn.CrossEntropyLoss())\n",
    "# dropouts.append(z)\n",
    "\n",
    "# filename = 'MLP 1 Hidden Layer Relu With 30% dropout'\n",
    "# z = [filename] + runner(784,56,10,filename,train_loader,test_loader,learning_rate,device,num_epochs,momentum,MLP1relu2,nn.CrossEntropyLoss())\n",
    "# dropouts.append(z)\n",
    "\n",
    "# filename = 'MLP 1 Hidden Layer Relu With 50% dropout'\n",
    "# z = [filename] + runner(784,56,10,filename,train_loader,test_loader,learning_rate,device,num_epochs,momentum,MLP1relu5,nn.CrossEntropyLoss())\n",
    "# dropouts.append(z)"
   ]
  },
  {
   "cell_type": "code",
   "execution_count": 87,
   "metadata": {
    "colab": {
     "base_uri": "https://localhost:8080/",
     "height": 573
    },
    "colab_type": "code",
    "id": "hof4NgAKoirX",
    "outputId": "460f6524-24fc-4a30-fcab-bf4b9180e240",
    "scrolled": true
   },
   "outputs": [
    {
     "data": {
      "image/png": "[encoded data removed]",
      "text/plain": [
       "<Figure size 432x288 with 1 Axes>"
      ]
     },
     "metadata": {
      "tags": []
     },
     "output_type": "display_data"
    },
    {
     "data": {
      "image/png": "[encoded data removed]",
      "text/plain": [
       "<Figure size 432x288 with 1 Axes>"
      ]
     },
     "metadata": {
      "tags": []
     },
     "output_type": "display_data"
    }
   ],
   "source": [
    "# plot_losses(activation,'Multi Layer Perceptron - Activation Functions')\n",
    "# plot_losses(layers,'Multi Layer Perceptron - Different Layers')\n",
    "# print(activation)\n",
    "plot_losses(activation,'Overfitting - Accuracy with dropout')\n",
    "plot_losses(activation,'Overfitting - Loss with dropout',loa=2)"
   ]
  },
  {
   "cell_type": "code",
   "execution_count": 89,
   "metadata": {
    "colab": {
     "base_uri": "https://localhost:8080/",
     "height": 221
    },
    "colab_type": "code",
    "id": "oWzy4LO0Pwsy",
    "outputId": "690b5938-4830-44ac-d4c3-62078e31efc1"
   },
   "outputs": [
    {
     "name": "stdout",
     "output_type": "stream",
     "text": [
      "  adding: MLP 1 Hidden Layer Linear accuracy vs epoch.png (deflated 8%)\n",
      "  adding: MLP 1 Hidden Layer Linear loss vs epoch.png (deflated 6%)\n",
      "  adding: MLP 1 Hidden Layer Relu accuracy vs epoch.png (deflated 6%)\n",
      "  adding: MLP 1 Hidden Layer Relu loss vs epoch.png (deflated 6%)\n",
      "  adding: MLP 1 Hidden Layer Relu With 20% dropout accuracy vs epoch.png (deflated 5%)\n",
      "  adding: MLP 1 Hidden Layer Relu With 20% dropout loss vs epoch.png (deflated 6%)\n",
      "  adding: MLP 1 Hidden Layer tanH accuracy vs epoch.png (deflated 6%)\n",
      "  adding: MLP 1 Hidden Layer tanH loss vs epoch.png (deflated 5%)\n",
      "  adding: Multi Layer Perceptron - Activation Functions.png (deflated 6%)\n",
      "  adding: Multi Layer Perceptron - Different Layers.png (deflated 8%)\n",
      "  adding: Overfitting - Accuracy with dropout.png (deflated 5%)\n",
      "  adding: Overfitting - Loss with dropout.png (deflated 5%)\n"
     ]
    }
   ],
   "source": [
    "try:\n",
    "  from google.colab import files\n",
    "  !zip output.zip *.png\n",
    "  while 1:\n",
    "    try:\n",
    "      files.download('output.zip')\n",
    "      break\n",
    "    except:\n",
    "      continue\n",
    "except:\n",
    "  pass"
   ]
  },
  {
   "cell_type": "code",
   "execution_count": 77,
   "metadata": {
    "colab": {
     "base_uri": "https://localhost:8080/",
     "height": 34
    },
    "colab_type": "code",
    "id": "6Z7fynh3VTOn",
    "outputId": "108c43f9-1de6-4be2-d38e-d9d15da6590d"
   },
   "outputs": [
    {
     "data": {
      "text/plain": [
       "[1, 2, 3]"
      ]
     },
     "execution_count": 77,
     "metadata": {
      "tags": []
     },
     "output_type": "execute_result"
    }
   ],
   "source": []
  }
 ],
 "metadata": {
  "accelerator": "GPU",
  "colab": {
   "collapsed_sections": [],
   "name": "MLP",
   "provenance": [],
   "version": "0.3.2"
  },
  "kernelspec": {
   "display_name": "Python 3",
   "language": "python",
   "name": "python3"
  },
  "language_info": {
   "codemirror_mode": {
    "name": "ipython",
    "version": 3
   },
   "file_extension": ".py",
   "mimetype": "text/x-python",
   "name": "python",
   "nbconvert_exporter": "python",
   "pygments_lexer": "ipython3",
   "version": "3.6.9"
  }
 },
 "nbformat": 4,
 "nbformat_minor": 1
}
